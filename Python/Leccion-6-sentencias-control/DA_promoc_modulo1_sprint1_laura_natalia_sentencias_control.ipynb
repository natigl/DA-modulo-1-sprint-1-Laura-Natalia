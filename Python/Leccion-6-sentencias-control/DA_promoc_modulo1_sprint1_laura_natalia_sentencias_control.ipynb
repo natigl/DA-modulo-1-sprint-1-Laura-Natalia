{
 "cells": [
  {
   "cell_type": "markdown",
   "metadata": {},
   "source": [
    "1. En la escuela donde trabajamos tienen el siguiente sistema de notas:"
   ]
  },
  {
   "cell_type": "markdown",
   "metadata": {},
   "source": [
    "- Below 25 - F\n",
    "- 25 to 45 - E\n",
    "- 45 to 50 - D\n",
    "- 50 to 60 - C\n",
    "- 60 to 80 - B\n",
    "- Above 80 - A"
   ]
  },
  {
   "attachments": {},
   "cell_type": "markdown",
   "metadata": {},
   "source": [
    "1. El objetivo de este ejercicio es que le preguntéis al usuario por una nota (numérica) y nosotros le devolvamos la nota con la letra que le corresponde."
   ]
  },
  {
   "cell_type": "code",
   "execution_count": 17,
   "metadata": {},
   "outputs": [
    {
     "name": "stdout",
     "output_type": "stream",
     "text": [
      "Tu nota es B.\n"
     ]
    }
   ],
   "source": [
    "\n",
    "selecciona_nota = input(\"¿Qué nota has sacado?\")\n",
    "selecciona_nota = int(selecciona_nota)\n",
    "\n",
    "if selecciona_nota <= 25: \n",
    "    print(\"Tu nota es F.\")\n",
    "\n",
    "elif selecciona_nota > 25 and selecciona_nota <= 45: \n",
    "    print(\"Tu nota es E.\")\n",
    "\n",
    "elif selecciona_nota > 45 and selecciona_nota <= 50: \n",
    "    print(\"Tu nota es D.\")\n",
    "\n",
    "elif selecciona_nota > 50 and selecciona_nota <= 60: \n",
    "    print(\"Tu nota es C.\")\n",
    "\n",
    "elif selecciona_nota > 60 and selecciona_nota <= 80: \n",
    "    print(\"Tu nota es B.\")\n",
    "\n",
    "elif selecciona_nota > 80 and selecciona_nota <= 100: \n",
    "    print(\"Tu nota es A.\")\n",
    "\n",
    "else:  \n",
    "    print(\"Has seleccionado una opción inválida 😔\")"
   ]
  },
  {
   "cell_type": "markdown",
   "metadata": {},
   "source": [
    "2. Cread tres inputs donde a cada uno de ellos le preguntéis su edad, el objetivo del ejercicio es determinar quien es el más viejo y el más joven."
   ]
  },
  {
   "cell_type": "code",
   "execution_count": 18,
   "metadata": {},
   "outputs": [
    {
     "name": "stdout",
     "output_type": "stream",
     "text": [
      "18 38 70\n"
     ]
    }
   ],
   "source": [
    "persona1 = input(\"¿Qué edad tienes?\")\n",
    "persona2 = input(\"¿Qué edad tienes?\")\n",
    "persona3 = input(\"¿Qué edad tienes?\")\n",
    "print(persona1, persona2, persona3)"
   ]
  },
  {
   "cell_type": "code",
   "execution_count": 19,
   "metadata": {},
   "outputs": [
    {
     "name": "stdout",
     "output_type": "stream",
     "text": [
      "Persona1 es el mas joven.\n"
     ]
    }
   ],
   "source": [
    "# Comprobamos quién es el más joven:\n",
    "\n",
    "if persona1 < persona2 and persona1 < persona3:\n",
    "    print(\"Persona1 es el mas joven.\")\n",
    "\n",
    "elif persona2 < persona1 and persona2 < persona3:\n",
    "    print(\"Persona2 es el mas joven.\")\n",
    "\n",
    "elif persona3 < persona1 and persona3 < persona2:\n",
    "    print(\"Persona2 es el mas joven.\")\n"
   ]
  },
  {
   "cell_type": "code",
   "execution_count": 20,
   "metadata": {},
   "outputs": [
    {
     "name": "stdout",
     "output_type": "stream",
     "text": [
      "Persona2 es el mas viejo.\n"
     ]
    }
   ],
   "source": [
    "# Comprobamos quién es el más viejo:\n",
    "if persona2 < persona1 > persona3:\n",
    "    print(\"Persona1 es el mas viejo.\")\n",
    "\n",
    "elif persona1 < persona2 > persona3:\n",
    "    print(\"Persona2 es el mas viejo.\")\n",
    "\n",
    "elif persona1 < persona3 > persona2:\n",
    "    print(\"Persona2 es el mas viejo.\")"
   ]
  },
  {
   "cell_type": "markdown",
   "metadata": {},
   "source": [
    "3. Escribid un programa que pregunte el nombre del usuario a través de la función input(). Si el nombre es \"Bond\" haced que imprima \"Bienvenido a bordo de 007\". En caso contrario haced que imprima \"Buenos días NOMBRE\". (Reemplace NOMBRE por el nombre del usuario)."
   ]
  },
  {
   "cell_type": "code",
   "execution_count": 21,
   "metadata": {},
   "outputs": [
    {
     "name": "stdout",
     "output_type": "stream",
     "text": [
      "Bienvenido a bordo 007.\n"
     ]
    }
   ],
   "source": [
    "# CASO A\n",
    "\n",
    "nombre_usuario = input(\"Cuál es tu nombre?\")\n",
    "\n",
    "if nombre_usuario == (\"Bond\".lower()) or \"Bond\":\n",
    "    print(\"Bienvenido a bordo 007.\")\n",
    "\n",
    "else: print(\"Buenos días\", nombre_usuario.upper())"
   ]
  },
  {
   "cell_type": "code",
   "execution_count": 22,
   "metadata": {},
   "outputs": [
    {
     "name": "stdout",
     "output_type": "stream",
     "text": [
      "Buenos días Natalia\n"
     ]
    }
   ],
   "source": [
    "# CASO B\n",
    "\n",
    "nombre_usuario = input(\"Cuál es tu nombre?\")\n",
    "\n",
    "if nombre_usuario == \"Bond\":\n",
    "    print(\"Bienvenido a bordo 007.\")\n",
    "\n",
    "else: print(\"Buenos días\", nombre_usuario)"
   ]
  },
  {
   "cell_type": "markdown",
   "metadata": {},
   "source": [
    "4. arbol es un diccionario que muestra el número de árboles de países por kilómetro cuadrado para países aleatorios con un número considerable de población. Crea una lista llamada \"masarboles\" que contenga el nombre de los países con más de 40.000 árboles por kilómetro cuadrado."
   ]
  },
  {
   "cell_type": "code",
   "execution_count": 7,
   "metadata": {},
   "outputs": [],
   "source": [
    "tree = {\"Taiwan\": 69593,\n",
    "        \"Japan\": 49894, \n",
    "        \"Russia\": 41396, \n",
    "        \"Canada\": 36388, \n",
    "        \"Bulgaria\": 24987}"
   ]
  },
  {
   "cell_type": "code",
   "execution_count": 8,
   "metadata": {},
   "outputs": [],
   "source": [
    "masarboles = []"
   ]
  },
  {
   "cell_type": "code",
   "execution_count": 9,
   "metadata": {},
   "outputs": [
    {
     "name": "stdout",
     "output_type": "stream",
     "text": [
      "['Taiwan', 'Japan', 'Russia']\n"
     ]
    }
   ],
   "source": [
    "if tree[\"Taiwan\"] > 40000:\n",
    "    masarboles.append(\"Taiwan\")\n",
    "\n",
    "if tree[\"Japan\"] > 40000:\n",
    "    masarboles.append(\"Japan\")\n",
    "\n",
    "if tree[\"Russia\"] > 40000:\n",
    "    masarboles.append(\"Russia\")\n",
    "\n",
    "if tree[\"Canada\"] > 40000:\n",
    "    masarboles.append(\"Canada\")\n",
    "\n",
    "if tree[\"Bulgaria\"] > 40000:\n",
    "    masarboles.append(\"Bulgaria\")\n",
    "\n",
    "print(masarboles)"
   ]
  },
  {
   "cell_type": "markdown",
   "metadata": {},
   "source": [
    "5. Los alumnos de un curso se han dividido en dos grupos A y B de acuerdo al sexo y el nombre. El grupo A esta formado por las mujeres con un nombre anterior a la M y los hombres con un nombre posterior a la N y el grupo B por el resto. Escribid un programa que pregunte al usuario su nombre y sexo, y muestre por pantalla el grupo que le corresponde."
   ]
  },
  {
   "cell_type": "code",
   "execution_count": 10,
   "metadata": {},
   "outputs": [
    {
     "name": "stdout",
     "output_type": "stream",
     "text": [
      "Estás en el grupo B\n"
     ]
    }
   ],
   "source": [
    "# Definimos las variables:\n",
    "nombre_grupos = input(\"¿Cuál es tu nombre?\")\n",
    "sexo = input(\"¿Cuál es tu sexo, masculino o femenino?\")\n",
    "\n",
    "# Escribimos la sentencia de control que dará el resultado en fnución del input recibido\n",
    "\n",
    "if sexo == \"femenino\" and nombre_grupos < \"M\":\n",
    "    print(\"Estás en el grupo A.\")\n",
    "elif sexo == \"masculino\" and nombre_grupos > \"N\":\n",
    "    print(\"Estás en el grupo A.\")\n",
    "    \n",
    "else: print(\"Estás en el grupo B\")"
   ]
  },
  {
   "attachments": {},
   "cell_type": "markdown",
   "metadata": {},
   "source": [
    "6. Escribid un programa que dada la variable z con valor 0, es decir z = 0.\n",
    "    - Mientras que el valor de z sea menor que 3:\n",
    "        - Si el valor de z es igual a 0:\n",
    "            - Printead el valor de z\n",
    "            - Almancenad el valor en una lista auxiliar\n",
    "            - Sumadle 1 al valor de z\n",
    "        - Si el valor de z es igual a 1:\n",
    "            - Printead el valor de z\n",
    "            - Almancenad el valor en una lista auxiliar\n",
    "            - Sumadle 1 al valor de z\n",
    "    - En caso de que no se cumplan las condiciones anteriores: \n",
    "            - Printead el valor de z\n",
    "            - Sumadle 1 al valor de z"
   ]
  },
  {
   "cell_type": "code",
   "execution_count": 11,
   "metadata": {},
   "outputs": [],
   "source": [
    "# Definimos las variables:\n",
    "z = 0\n",
    "lista_auxiliar = []"
   ]
  },
  {
   "cell_type": "code",
   "execution_count": 12,
   "metadata": {},
   "outputs": [
    {
     "name": "stdout",
     "output_type": "stream",
     "text": [
      "0\n",
      "2\n"
     ]
    }
   ],
   "source": [
    "while z < 3:\n",
    "    if z == 0:\n",
    "        print(z)\n",
    "        lista_auxiliar.append(z)\n",
    "        z += 1\n",
    "\n",
    "    elif z == 1:\n",
    "        print(z)\n",
    "        lista_auxiliar.append(z) \n",
    "        z += 1\n",
    "\n",
    "    else: print(z)\n",
    "    z += 1\n",
    "           "
   ]
  },
  {
   "cell_type": "markdown",
   "metadata": {},
   "source": [
    "7. El objetivo de este ejercicio es añadir elementos a una lista utilizando el bucle while:\n",
    "   \n",
    "Cread una lista vacía\n",
    "\n",
    "Cread una variable cuyo valor sea 0\n",
    "\n",
    "Mientras que la longitud de la lista creada en el primer paso sea menor que 4:\n",
    "\n",
    "Apendead el valor de la variable creada en el paso 2\n",
    "\n",
    "Sumad 1 a la variable creada en el paso 2\n",
    "\n",
    "Por último, printead los valores que hemos añadido en la lista vacía (ya no lo estaría)"
   ]
  },
  {
   "cell_type": "code",
   "execution_count": 13,
   "metadata": {},
   "outputs": [],
   "source": [
    "# Definimos las variables:\n",
    "lista1 = []\n",
    "variable1 = 0"
   ]
  },
  {
   "cell_type": "code",
   "execution_count": 14,
   "metadata": {},
   "outputs": [
    {
     "name": "stdout",
     "output_type": "stream",
     "text": [
      "[0]\n",
      "[0, 1]\n",
      "[0, 1, 2]\n",
      "[0, 1, 2, 3]\n"
     ]
    }
   ],
   "source": [
    "while len(lista1) < 4:\n",
    "    lista1.append(variable1)\n",
    "    variable1 += 1\n",
    "    print(lista1)"
   ]
  },
  {
   "attachments": {},
   "cell_type": "markdown",
   "metadata": {},
   "source": [
    "8. El objetivo de este ejercicio es encontrar la suma de números en una lista usando el bucle while:\n",
    "   \n",
    "    - Cread una variable cuyo valor sea 0, llamadla \"i\"\n",
    "\n",
    "    - Cread una lista que contenga los siguientes números: 23,45,12,10,25\n",
    "\n",
    "    - Cread una variable cuyo valor sea 0, llamadla \"suma\"\n",
    "\n",
    "    - Mientras que el valor de la variable \"i\" sea menor que la longitud de la lista:\n",
    "\n",
    "    - Sumad elemento a elemento los valores de la lista. Es decir, el primero con el segundo; el resultado de la suma anterior más el tercer número, etc\n",
    "\n",
    "    - Sumad 1 a la variable \"i\" por cada iteración por el bucle while\n",
    "\n",
    "El resultado esperado es 115."
   ]
  },
  {
   "cell_type": "code",
   "execution_count": 15,
   "metadata": {},
   "outputs": [
    {
     "name": "stdout",
     "output_type": "stream",
     "text": [
      "115\n"
     ]
    }
   ],
   "source": [
    "lista2=[23,45,12,10,25]\n",
    "suma = 0\n",
    "i = 0\n",
    "\n",
    "\n",
    "while i <len(lista2):\n",
    "    suma = suma+lista2[0]\n",
    "    i = i+1\n",
    "\n",
    "print(suma) "
   ]
  },
  {
   "cell_type": "markdown",
   "metadata": {},
   "source": [
    "9. Escribid un programa para una empresa que tiene salas de juegos para todas las edades y quiere calcular de forma automática el precio que debe cobrar a sus clientes por entrar. El programa debe preguntar al usuario la edad del cliente y mostrar el precio de la entrada. Si el cliente es menor de 4 años puede entrar gratis, si tiene entre 4 y 18 años debe pagar 5€ y si es mayor de 18 años, 10€."
   ]
  },
  {
   "cell_type": "code",
   "execution_count": 23,
   "metadata": {},
   "outputs": [
    {
     "name": "stdout",
     "output_type": "stream",
     "text": [
      "El precio son 10€.\n"
     ]
    }
   ],
   "source": [
    "edad_cliente = input(\"¿Qué edad tienes?\")\n",
    "edad_cliente = int(edad_cliente)\n",
    "\n",
    "if edad_cliente < 4:\n",
    "    print(\"¡Entras gratis!\")\n",
    "elif 4 <=  edad_cliente < 18:\n",
    "    print(\"El precio son 5€.\")\n",
    "else:\n",
    "    print(\"El precio son 10€.\")"
   ]
  },
  {
   "attachments": {},
   "cell_type": "markdown",
   "metadata": {},
   "source": [
    "10. La pizzería Bella Napoli ofrece pizzas vegetarianas y no vegetarianas a sus clientes. Los ingredientes para cada tipo de pizza aparecen a continuación.\n",
    "    \n",
    "    - Ingredientes vegetarianos: Pimiento y tofu.\n",
    "\n",
    "    - Ingredientes no vegetarianos: Peperoni, Jamón y Salmón.\n",
    "\n",
    "Escribid un programa que pregunte al usuario si quiere una pizza vegetariana o no, y en función de su respuesta le muestre un menú con los ingredientes disponibles para que elija. Solo se puede eligir un ingrediente además de la mozzarella y el tomate que están en todas la pizzas. Al final se debe mostrar por pantalla si la pizza elegida es vegetariana o no y todos los ingredientes que lleva."
   ]
  },
  {
   "cell_type": "code",
   "execution_count": 31,
   "metadata": {},
   "outputs": [
    {
     "name": "stdout",
     "output_type": "stream",
     "text": [
      "Pizza vegetariana con mozzarella, tomate y tofu.\n"
     ]
    }
   ],
   "source": [
    "tipo_pizza = input(\"¿Prefiere pizza vegetariana o no? (Escriba si o no)\")\n",
    "\n",
    "if tipo_pizza == \"si\":\n",
    "    pizza_vegetariana = input(\"Elige entre pimiento o tofu\")\n",
    "    \n",
    "    if pizza_vegetariana == \"pimiento\":\n",
    "        print(\"Pizza vegatariana con mozzarella, tomate y pimiento. \")\n",
    "    elif pizza_vegetariana == \"tofu\":\n",
    "        print(\"Pizza vegetariana con mozzarella, tomate y tofu.\")\n",
    "\n",
    "elif tipo_pizza == \"no\":\n",
    "    pizza_no = input(\"Elige entre peperoni, jamón o salmón\")\n",
    "    \n",
    "    if pizza_no == \"peperoni\":\n",
    "        print(\"Pizza con mozzarella, tomate y peperoni. \")\n",
    "    elif pizza_no == \"jamón\":\n",
    "        print(\"Pizza con mozzarella, tomate y jamón.\")\n",
    "    elif pizza_no == \"salmón\":\n",
    "        print(\"Pizza con mozzarella, tomate y salmón.\")\n",
    "\n",
    "else: print(\"Disculpa, tu respuesta no es válida.\")"
   ]
  }
 ],
 "metadata": {
  "kernelspec": {
   "display_name": "Python 3",
   "language": "python",
   "name": "python3"
  },
  "language_info": {
   "codemirror_mode": {
    "name": "ipython",
    "version": 3
   },
   "file_extension": ".py",
   "mimetype": "text/x-python",
   "name": "python",
   "nbconvert_exporter": "python",
   "pygments_lexer": "ipython3",
   "version": "3.6.9"
  },
  "orig_nbformat": 4,
  "vscode": {
   "interpreter": {
    "hash": "31f2aee4e71d21fbe5cf8b01ff0e069b9275f58929596ceb00d14d90e3e16cd6"
   }
  }
 },
 "nbformat": 4,
 "nbformat_minor": 2
}
