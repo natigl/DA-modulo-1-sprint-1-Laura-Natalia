{
 "cells": [
  {
   "attachments": {},
   "cell_type": "markdown",
   "metadata": {},
   "source": [
    "**En el pair programming de hoy trabajaremos con diccionarios. El objetivo es poner en práctica todos los métodos aprendidos hasta el momento. Para ello lo primero que haremos será contruir un diccionario paso a paso. Nuestro diccionario estará compuesto por:**\n",
    "- Cuatro keys que serán:\n",
    "\n",
    "1. nombres\n",
    "\n",
    "2. apellidos\n",
    "\n",
    "3. edades\n",
    "\n",
    "4. hijos"
   ]
  },
  {
   "cell_type": "markdown",
   "metadata": {},
   "source": [
    "Cada una de las keys tendrá un value que será una lista que iremos construyendo con inputs. Para crear los values seguid los pasos que os indicamos a continuación."
   ]
  },
  {
   "attachments": {},
   "cell_type": "markdown",
   "metadata": {},
   "source": [
    "---"
   ]
  },
  {
   "attachments": {},
   "cell_type": "markdown",
   "metadata": {},
   "source": [
    "1. Cread un input que pregunte a la usuaria por tres nombres. Almacenad el resultado en una lista. Esta lista será el value de la key nombres"
   ]
  },
  {
   "cell_type": "code",
   "execution_count": 19,
   "metadata": {},
   "outputs": [],
   "source": [
    "lista_nombres = input(\"Digame tres nombres: \").split()"
   ]
  },
  {
   "attachments": {},
   "cell_type": "markdown",
   "metadata": {},
   "source": [
    "2. Cread un input que pregunte a la usuaria por tres apellidos. Convertir el resultado en lista y este será el value de la key apellidos."
   ]
  },
  {
   "cell_type": "code",
   "execution_count": 20,
   "metadata": {},
   "outputs": [],
   "source": [
    "lista_apellidos = input(\"Digame sus apellidos \").split()"
   ]
  },
  {
   "attachments": {},
   "cell_type": "markdown",
   "metadata": {},
   "source": [
    "3. Cread un input que pregunte a la usuaria por tres edades. Almancenad los resultados en una lista. Esta lista será el value de la key edades."
   ]
  },
  {
   "cell_type": "code",
   "execution_count": 21,
   "metadata": {},
   "outputs": [],
   "source": [
    "lista_edades = input(\"Digame sus edades\").split()"
   ]
  },
  {
   "cell_type": "code",
   "execution_count": 27,
   "metadata": {},
   "outputs": [],
   "source": [
    "# Convertimos las edades a integer, ya que los input nos devuelven str \n",
    "lista_edades = [int(i) for i in lista_edades]"
   ]
  },
  {
   "attachments": {},
   "cell_type": "markdown",
   "metadata": {},
   "source": [
    "4. Cread un input que pregunte a la usuaria por el número de hijos. Almacenad este resultado en una lista. Esta lista será el value de la key hijos."
   ]
  },
  {
   "cell_type": "code",
   "execution_count": 26,
   "metadata": {},
   "outputs": [
    {
     "data": {
      "text/plain": [
       "['1', '2', '3']"
      ]
     },
     "execution_count": 26,
     "metadata": {},
     "output_type": "execute_result"
    }
   ],
   "source": [
    "lista_hijos = input(\"Digame el numero de hijos, separando los de cada individuo por comas\").split(\",\")\n",
    "lista_hijos"
   ]
  },
  {
   "cell_type": "code",
   "execution_count": 28,
   "metadata": {},
   "outputs": [],
   "source": [
    "# Convertimos las hijos a integer\n",
    "lista_hijos = [int(i) for i in lista_hijos]"
   ]
  },
  {
   "attachments": {},
   "cell_type": "markdown",
   "metadata": {},
   "source": [
    "5. Cread un diccionario con los resultados del input. Al final de todos estos pasos deberíamos tener un diccionario similar a este:\n",
    "\n",
    "    {'nombres': ['Lara', ' Alejandro', ' Ana'],\n",
    "\n",
    "    'apellidos': ['Lopez', ' Martin', ' Solo'],\n",
    "\n",
    "    'edades': [34, 20, 28],\n",
    "    \n",
    "    'hijos': [2, 0, 1]}"
   ]
  },
  {
   "cell_type": "code",
   "execution_count": 42,
   "metadata": {},
   "outputs": [
    {
     "data": {
      "text/plain": [
       "{'nombres': ['Ana', 'Natalia', 'Laura'],\n",
       " 'apellidos': ['Garcia', 'Lago', 'Onteniente'],\n",
       " 'edades': [32, 28, 27],\n",
       " 'hijos': [1, 2, 3]}"
      ]
     },
     "execution_count": 42,
     "metadata": {},
     "output_type": "execute_result"
    }
   ],
   "source": [
    "registros = {\"nombres\" : lista_nombres, \"apellidos\" : lista_apellidos, \"edades\" : lista_edades, \"hijos\" : lista_hijos}\n",
    "registros"
   ]
  },
  {
   "attachments": {},
   "cell_type": "markdown",
   "metadata": {},
   "source": [
    "6. Una vez tengáis creado el diccionario, añadid una nueva key donde tengamos la información sobre el número de hermanos."
   ]
  },
  {
   "cell_type": "code",
   "execution_count": 34,
   "metadata": {},
   "outputs": [],
   "source": [
    "registros[\"número de hermanos\"] = [4, 5, 6]"
   ]
  },
  {
   "attachments": {},
   "cell_type": "markdown",
   "metadata": {},
   "source": [
    "- ¿Cúales son las keys de nuestro diccionario? ¿Y los values?"
   ]
  },
  {
   "cell_type": "code",
   "execution_count": 36,
   "metadata": {},
   "outputs": [
    {
     "name": "stdout",
     "output_type": "stream",
     "text": [
      "dict_keys(['nombres', 'apellidos', 'edades', 'hijos', 'número de hermanos'])\n"
     ]
    }
   ],
   "source": [
    "registros.keys()"
   ]
  },
  {
   "cell_type": "code",
   "execution_count": 37,
   "metadata": {},
   "outputs": [
    {
     "name": "stdout",
     "output_type": "stream",
     "text": [
      "dict_values([['Ana', 'Natalia', 'Laura'], ['Garcia', 'Lago', 'Onteniente'], [32, 28, 27], [1, 2, 3], [4, 5, 6]])\n"
     ]
    }
   ],
   "source": [
    "registros.values()"
   ]
  },
  {
   "attachments": {},
   "cell_type": "markdown",
   "metadata": {},
   "source": [
    "7. Para extraer los values de una key podemos hacerlo de varias formas.\n",
    "\n",
    "Extraed los valores de la key nombres. Utilizad dos métodos diferentes."
   ]
  },
  {
   "cell_type": "code",
   "execution_count": 38,
   "metadata": {},
   "outputs": [
    {
     "name": "stdout",
     "output_type": "stream",
     "text": [
      "['Ana', 'Natalia', 'Laura']\n",
      "['Ana', 'Natalia', 'Laura']\n"
     ]
    }
   ],
   "source": [
    "print(registros[\"nombres\"])\n",
    "print(registros.get(\"nombres\"))"
   ]
  },
  {
   "attachments": {},
   "cell_type": "markdown",
   "metadata": {},
   "source": [
    "8. Extraed los valores de la key nacionalidad. En caso de que no exista, cread esa key con el value \"desconocida\"."
   ]
  },
  {
   "cell_type": "code",
   "execution_count": 46,
   "metadata": {},
   "outputs": [
    {
     "data": {
      "text/plain": [
       "'desconocida'"
      ]
     },
     "execution_count": 46,
     "metadata": {},
     "output_type": "execute_result"
    }
   ],
   "source": [
    "registros.setdefault(\"nacionalidad\",\"desconocida\")"
   ]
  },
  {
   "attachments": {},
   "cell_type": "markdown",
   "metadata": {},
   "source": [
    "9. Ordena los elementos del diccionario basandonos en las keys y los values. Esto nos devuelve una lista de tuplas(todavía no hemos visto este tipo de datos, pero lo veremos en la lección de mañana). Convertid esta lista de tuplas en diccionario."
   ]
  },
  {
   "cell_type": "code",
   "execution_count": 47,
   "metadata": {},
   "outputs": [
    {
     "data": {
      "text/plain": [
       "[('apellidos', ['Garcia', 'Lago', 'Onteniente']),\n",
       " ('edades', [32, 28, 27]),\n",
       " ('hijos', [1, 2, 3]),\n",
       " ('nacionalidad', 'desconocida'),\n",
       " ('nombres', ['Ana', 'Natalia', 'Laura'])]"
      ]
     },
     "execution_count": 47,
     "metadata": {},
     "output_type": "execute_result"
    }
   ],
   "source": [
    "diccionario_ordenado = sorted(registros.items())\n",
    "diccionario_ordenado"
   ]
  },
  {
   "cell_type": "code",
   "execution_count": 48,
   "metadata": {},
   "outputs": [],
   "source": [
    "diccionario2 = dict(diccionario_ordenado)"
   ]
  },
  {
   "cell_type": "code",
   "execution_count": 49,
   "metadata": {},
   "outputs": [
    {
     "data": {
      "text/plain": [
       "dict"
      ]
     },
     "execution_count": 49,
     "metadata": {},
     "output_type": "execute_result"
    }
   ],
   "source": [
    "type(diccionario2)"
   ]
  },
  {
   "attachments": {},
   "cell_type": "markdown",
   "metadata": {},
   "source": [
    "10. Eliminad la key de \"nacionalidad\"\n"
   ]
  },
  {
   "cell_type": "code",
   "execution_count": 50,
   "metadata": {},
   "outputs": [
    {
     "data": {
      "text/plain": [
       "'desconocida'"
      ]
     },
     "execution_count": 50,
     "metadata": {},
     "output_type": "execute_result"
    }
   ],
   "source": [
    "registros.pop(\"nacionalidad\")"
   ]
  },
  {
   "attachments": {},
   "cell_type": "markdown",
   "metadata": {},
   "source": [
    "11. Utilizando métodos de Python. ¿Qué persona tiene mayor nuúmero de hijos? ¿Y quién es la más joven?"
   ]
  },
  {
   "cell_type": "code",
   "execution_count": 51,
   "metadata": {},
   "outputs": [
    {
     "name": "stdout",
     "output_type": "stream",
     "text": [
      "Laura\n"
     ]
    }
   ],
   "source": [
    "hijos_mas = max(registros[\"hijos\"])\n",
    "print(registros[\"nombres\"][registros[\"hijos\"].index(hijos_mas)])"
   ]
  },
  {
   "cell_type": "code",
   "execution_count": 52,
   "metadata": {},
   "outputs": [
    {
     "name": "stdout",
     "output_type": "stream",
     "text": [
      "Laura\n"
     ]
    }
   ],
   "source": [
    "min_edades = min(registros[\"edades\"])\n",
    "print(registros[\"nombres\"][registros[\"edades\"].index(min_edades)])"
   ]
  }
 ],
 "metadata": {
  "kernelspec": {
   "display_name": "Python 3",
   "language": "python",
   "name": "python3"
  },
  "language_info": {
   "codemirror_mode": {
    "name": "ipython",
    "version": 3
   },
   "file_extension": ".py",
   "mimetype": "text/x-python",
   "name": "python",
   "nbconvert_exporter": "python",
   "pygments_lexer": "ipython3",
   "version": "3.6.9"
  },
  "orig_nbformat": 4,
  "vscode": {
   "interpreter": {
    "hash": "31f2aee4e71d21fbe5cf8b01ff0e069b9275f58929596ceb00d14d90e3e16cd6"
   }
  }
 },
 "nbformat": 4,
 "nbformat_minor": 2
}
